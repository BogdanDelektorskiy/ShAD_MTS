{
  "nbformat": 4,
  "nbformat_minor": 0,
  "metadata": {
    "colab": {
      "provenance": []
    },
    "kernelspec": {
      "name": "python3",
      "display_name": "Python 3"
    },
    "language_info": {
      "name": "python"
    }
  },
  "cells": [
    {
      "cell_type": "markdown",
      "source": [
        "# Лекция 1. Настройка рабочей среды. Основы синтексиса"
      ],
      "metadata": {
        "id": "1xUC4hXsT4w_"
      }
    },
    {
      "cell_type": "markdown",
      "source": [
        "## Типы данных\n",
        "- Тип данных: строка (str)\n",
        "- Тип данных: целое число (int)\n",
        "- Тип данных: числа с плавающей точкой (float)\n",
        "- Тип данных: список (list)\n",
        "- Типы данных: кортеж (tuple)\n",
        "- Тип данных: множество (set)\n",
        "- Тип данных: Boolean\n",
        "- Тип данных: словарь (dict)\n",
        "- Тип данных: NoneType"
      ],
      "metadata": {
        "id": "Cx6OSlbcaWVc"
      }
    },
    {
      "cell_type": "markdown",
      "source": [
        "**Что такое Python?**\n",
        "\n",
        "Python - это мультипарадигмальный, высокоуровневый язык программирования с динамической строгой типизацией.\n",
        "\n",
        "Динамический -  означает, что мы можем менять типы данных, хранящиеся в переменных по ходу выполнения программы.\n",
        "\n",
        "Строгой - означает, что язык не будет заниматься приведением типов данных за нас.\n",
        "\n"
      ],
      "metadata": {
        "id": "dSPTORL4aq6V"
      }
    },
    {
      "cell_type": "markdown",
      "source": [
        "**Использование переменных**\n",
        "\n",
        "Переменная - это символическое представление данных, которое позволяет вам получить доступ к значению без необходимости вводить его вручную, где бы оно вам ни понадобилось.\n",
        "\n",
        "Это может быть полезно, если вы используете одни и те же значения в нескольких местах. Переменные делают ваши запросы более гибкими и читабельными, абстагируют их от деталей.\n"
      ],
      "metadata": {
        "id": "VMWMz8DycGa_"
      }
    },
    {
      "cell_type": "code",
      "execution_count": 1,
      "metadata": {
        "colab": {
          "base_uri": "https://localhost:8080/"
        },
        "id": "qdhIaUXOO80a",
        "outputId": "383bbf8f-288f-46b2-97fe-ef6fbb912f6b"
      },
      "outputs": [
        {
          "output_type": "execute_result",
          "data": {
            "text/plain": [
              "5"
            ]
          },
          "metadata": {},
          "execution_count": 1
        }
      ],
      "source": [
        "a = 5\n",
        "\n",
        "a"
      ]
    },
    {
      "cell_type": "code",
      "source": [
        "b = a\n",
        "\n",
        "a is b"
      ],
      "metadata": {
        "colab": {
          "base_uri": "https://localhost:8080/"
        },
        "id": "ztk_CFqFdwNp",
        "outputId": "2875256b-7908-416b-fd97-0d06ef1752b4"
      },
      "execution_count": 2,
      "outputs": [
        {
          "output_type": "execute_result",
          "data": {
            "text/plain": [
              "True"
            ]
          },
          "metadata": {},
          "execution_count": 2
        }
      ]
    },
    {
      "cell_type": "code",
      "source": [
        "type(a)  # type показывает тип данных"
      ],
      "metadata": {
        "colab": {
          "base_uri": "https://localhost:8080/"
        },
        "id": "ynRRKH5PhVu4",
        "outputId": "2f30227c-f002-4e9b-b16f-d3f7a367314b"
      },
      "execution_count": 3,
      "outputs": [
        {
          "output_type": "execute_result",
          "data": {
            "text/plain": [
              "int"
            ]
          },
          "metadata": {},
          "execution_count": 3
        }
      ]
    },
    {
      "cell_type": "markdown",
      "source": [
        " ### Тип данных: строка (str)\n",
        "\n",
        " Строка - представляет собой тип данных, позволяющий хранитьобычные строки (string) в формате Unicode.\n",
        "\n",
        " Для присваивания строки переменной, она должна быть заключена в одинарные или двойные ковычки.\n",
        "\n",
        " Puthon позволяет приводить другие типы данных к типу str:\n",
        " - new_str = str(1045)  # 1045 - это число\n",
        " - print(new_str)  # '1045' - строка\n",
        "\n",
        " А также позволяет \"складывать\" и \"умножать\" строки, результатом чего всегда будет новая строка, поскольку - это неизменяемый тип данных:\n",
        "\n",
        " - add_str = \"abra\" + \"hadabra\"  # \"abrahadabra\"\n",
        " - mul_str = \"nan\" * 2  # nannan\n",
        "\n",
        " Еще один тип строк, использующийся для написания документации и представляющий собой многострочный текст с физическими пробелами. Такие строки заключаются в тройные одинарные или в тройные двойные кавычки.\n",
        "\n"
      ],
      "metadata": {
        "id": "ZSrXLVA7e1Eh"
      }
    },
    {
      "cell_type": "code",
      "source": [
        "\"py\" + \"th\" + \"on\" # транкатиназация - сложение строк"
      ],
      "metadata": {
        "colab": {
          "base_uri": "https://localhost:8080/",
          "height": 35
        },
        "id": "hxrb1wl8iQZg",
        "outputId": "b30b8399-911b-467f-b495-ce5f704c02df"
      },
      "execution_count": 4,
      "outputs": [
        {
          "output_type": "execute_result",
          "data": {
            "text/plain": [
              "'python'"
            ],
            "application/vnd.google.colaboratory.intrinsic+json": {
              "type": "string"
            }
          },
          "metadata": {},
          "execution_count": 4
        }
      ]
    },
    {
      "cell_type": "markdown",
      "source": [
        " #### Основные методы строк:\n",
        "\n",
        " - S.strip([chars]) - удаление пробельных символов в начале и в конце строки\n",
        "\n",
        " - S.capitalize() - переводит первый символ строки в верхний регистр, а все остальные в нижний\n",
        "\n",
        " - S.upper() - преобразование строки к верхнему регистру\n",
        "\n",
        " - S.lower() - преобразование строки к нижнему регистру\n",
        "\n",
        " - S.startswith(sub) - начинается ли строка S с шаблона sup\n",
        "\n",
        " - S.endswith(sub) - заканчивается ли строка S с шаблоном sup\n",
        "\n",
        " - **S.join(список)** - сборка строки из списка с разделителем S\n",
        "\n",
        " - S.replace(шаблон, замена, [maxcount]) - замена шаблона на замену, maxcount ограничивает количество замен\n",
        "\n",
        " - S.split(символ) - разбивает строку по разделителю\n",
        "\n",
        " - S.isdigit() проверяет, состоит ли строчка из цифр\n",
        "\n",
        " - S.isalpha() - проверяет, состоит ли строчка из букв\n",
        "\n",
        " - S.find(str, [start],[end]) - поиск подстроки в строке, возвращает номер первого вхождения или -1\n",
        "\n",
        "- S.index(str, [start],[end]) - поиск подстроки в строке, возвращает номер первого вхождения или вызывает ValueError"
      ],
      "metadata": {
        "id": "7LMW6U0Nhj87"
      }
    },
    {
      "cell_type": "markdown",
      "source": [
        "### Тип данных: целое число (int)\n",
        "\n",
        "int - базовый числовой тип данных, представляющий собой целое число (Integer)"
      ],
      "metadata": {
        "id": "kJ3HM2Gal1tA"
      }
    },
    {
      "cell_type": "code",
      "source": [
        "result = a + b  # сложение\n",
        "\n",
        "result = b - a  # вычитание\n",
        "\n",
        "result a * b  # умножение\n",
        "\n",
        "result = a ** b  # возведение в степень\n",
        "\n",
        "result a // b  # целочисленное деление\n",
        "\n",
        "result = a / b  # деление с дробной частью\n",
        "\n",
        "result = a % b  # получение остатка от деления"
      ],
      "metadata": {
        "id": "XFnFovWpnAPM"
      },
      "execution_count": null,
      "outputs": []
    },
    {
      "cell_type": "code",
      "source": [
        "a = \"66\"\n",
        "convert_to_int = int(a)  # перевод из str в int\n",
        "a.isdigit()"
      ],
      "metadata": {
        "colab": {
          "base_uri": "https://localhost:8080/"
        },
        "id": "hB_Q-5nKnx2P",
        "outputId": "24abd879-d585-454d-cdd4-2aa90d25eaf2"
      },
      "execution_count": 11,
      "outputs": [
        {
          "output_type": "execute_result",
          "data": {
            "text/plain": [
              "True"
            ]
          },
          "metadata": {},
          "execution_count": 11
        }
      ]
    },
    {
      "cell_type": "markdown",
      "source": [
        "### Тип данных: числа с плавающей точкой (float)\n",
        "\n",
        "Python поддерживает еще один числовой тип данных, который называется float - или число с плавающей точкой. Это число, которое помимо целой части имеет еще и дробную.\n",
        "\n",
        "float поддерживает все математические операции, которые мы можем производить с числами."
      ],
      "metadata": {
        "id": "wwhWuR-iorLC"
      }
    },
    {
      "cell_type": "code",
      "source": [
        "a = 0.1\n",
        "b = 0.2\n",
        "c = a + b\n",
        "\n",
        "print(c)"
      ],
      "metadata": {
        "colab": {
          "base_uri": "https://localhost:8080/"
        },
        "id": "ITAXSA9JpS_h",
        "outputId": "935f5744-4322-43c4-e5ab-fd1e26de6e56"
      },
      "execution_count": 12,
      "outputs": [
        {
          "output_type": "stream",
          "name": "stdout",
          "text": [
            "0.30000000000000004\n"
          ]
        }
      ]
    },
    {
      "cell_type": "code",
      "source": [
        "import math\n",
        "\n",
        "x = 1.5123\n",
        "\n",
        "print(round(x))  #\n",
        "print(math.floor(x))  #\n",
        "print(math.ceil(x))  #"
      ],
      "metadata": {
        "colab": {
          "base_uri": "https://localhost:8080/"
        },
        "id": "J_P_jq7kpo8y",
        "outputId": "b07a7453-3428-49c3-e198-8d9f6d66ad3b"
      },
      "execution_count": 15,
      "outputs": [
        {
          "output_type": "stream",
          "name": "stdout",
          "text": [
            "2\n",
            "1\n",
            "2\n"
          ]
        }
      ]
    },
    {
      "cell_type": "code",
      "source": [
        "convert_to_float = float(\"6\")\n",
        "convert_to_float"
      ],
      "metadata": {
        "colab": {
          "base_uri": "https://localhost:8080/"
        },
        "id": "YTJBazUzqHXu",
        "outputId": "a4f9b168-27b5-40fa-cf67-77946f97c0f0"
      },
      "execution_count": 16,
      "outputs": [
        {
          "output_type": "execute_result",
          "data": {
            "text/plain": [
              "6.0"
            ]
          },
          "metadata": {},
          "execution_count": 16
        }
      ]
    },
    {
      "cell_type": "markdown",
      "source": [
        "### Тип данных: список (list)\n",
        "\n",
        "Список включает в себя коллекцию данных одного или разных типов. Для того, чтобы создать список, нужно перечислить данные через запятую и заключить их в квадратные скобки."
      ],
      "metadata": {
        "id": "NawH1Chsqfmr"
      }
    },
    {
      "cell_type": "code",
      "source": [
        "my_list = [\"str\", 7, True, [1, 2, 3]]\n",
        "print(my_list[1])\n",
        "\n",
        "id(my_list)\n",
        "\n",
        "\n",
        "\n"
      ],
      "metadata": {
        "colab": {
          "base_uri": "https://localhost:8080/"
        },
        "id": "53Wy1db2qWv1",
        "outputId": "43e653fe-69e7-4033-e377-7e16650b911c"
      },
      "execution_count": 27,
      "outputs": [
        {
          "output_type": "stream",
          "name": "stdout",
          "text": [
            "7\n"
          ]
        },
        {
          "output_type": "execute_result",
          "data": {
            "text/plain": [
              "135404240419968"
            ]
          },
          "metadata": {},
          "execution_count": 27
        }
      ]
    },
    {
      "cell_type": "code",
      "source": [
        "my_list[1] = 52\n",
        "\n",
        "id(my_list)  # не изменился\n",
        "\n",
        "my_list  # [[link_0, index_0], [link_1, index_1], ...]"
      ],
      "metadata": {
        "colab": {
          "base_uri": "https://localhost:8080/"
        },
        "id": "ROguSHNqsr85",
        "outputId": "71d0ce35-632f-434d-f4c8-731c673b8f9d"
      },
      "execution_count": 30,
      "outputs": [
        {
          "output_type": "execute_result",
          "data": {
            "text/plain": [
              "135404240419968"
            ]
          },
          "metadata": {},
          "execution_count": 30
        }
      ]
    },
    {
      "cell_type": "markdown",
      "source": [
        "Мы можем превратить в список некоторые другие типы данных. Например, строку:\n"
      ],
      "metadata": {
        "id": "jW13U_qerVLR"
      }
    },
    {
      "cell_type": "code",
      "source": [
        "new_list = list(\"abcd\")\n",
        "print(*new_list)\n"
      ],
      "metadata": {
        "colab": {
          "base_uri": "https://localhost:8080/"
        },
        "id": "nFt8GDzUrrJY",
        "outputId": "6d0a5a33-59cb-4146-f0eb-7618a4895504"
      },
      "execution_count": 31,
      "outputs": [
        {
          "output_type": "stream",
          "name": "stdout",
          "text": [
            "a b c d\n"
          ]
        }
      ]
    },
    {
      "cell_type": "markdown",
      "source": [
        "Списки - это изменяемый тип данных! Поэтому, можем присвоить новое значение любому из элементов списка по индексу.\n",
        "\n",
        "#### Основные методы:\n",
        "\n",
        "- list.append(x) - добавляет элемент х в конец списка\n",
        "\n",
        "- list.extend(L) - расширяетт список, добавляя в конец все элементы списка L\n",
        "\n",
        "- list.pop([i]) - извлекает i-ый элемент и возвращает его. Если индекс не указан, извлекается последний элемент\n",
        "\n",
        "- list.count(x) - возвращает количество элеменетов со значением х\n",
        "\n",
        "- list.sort([key=f]) - сортирует список на основе функции\n",
        "\n",
        "- list.reverse() - разворачивает список\n",
        "\n",
        "- list.copy() - поверхностная копия списка"
      ],
      "metadata": {
        "id": "TnMB_b8Jr9gD"
      }
    },
    {
      "cell_type": "code",
      "source": [
        "new_list.extend([1, 2])  # добавили в конец списка\n",
        "\n",
        "new_list.pop(-1)  # отрицательные индексы (послдений элемент)\n",
        "\n",
        "new_list.reverse()  # разворачиваем список"
      ],
      "metadata": {
        "id": "HCk3hPISu5q5"
      },
      "execution_count": 35,
      "outputs": []
    },
    {
      "cell_type": "code",
      "source": [
        "new_list = [1, 2, 8, 6]\n",
        "\n",
        "new_list.sort()  # меняет сам список\n",
        "\n",
        "new_list"
      ],
      "metadata": {
        "colab": {
          "base_uri": "https://localhost:8080/"
        },
        "id": "lRMG7m-5v7Uk",
        "outputId": "0689a84f-039d-4433-b0a7-56e97f28a58a"
      },
      "execution_count": 36,
      "outputs": [
        {
          "output_type": "execute_result",
          "data": {
            "text/plain": [
              "[1, 2, 6, 8]"
            ]
          },
          "metadata": {},
          "execution_count": 36
        }
      ]
    },
    {
      "cell_type": "code",
      "source": [
        "sorted_list = sorted(new_list)\n",
        "\n",
        "sorted_list"
      ],
      "metadata": {
        "colab": {
          "base_uri": "https://localhost:8080/"
        },
        "id": "VV7Izm8XwG07",
        "outputId": "e2f3de46-3ac9-4d63-97c9-ef0ccca32f8a"
      },
      "execution_count": 39,
      "outputs": [
        {
          "output_type": "execute_result",
          "data": {
            "text/plain": [
              "[1, 2, 6, 8]"
            ]
          },
          "metadata": {},
          "execution_count": 39
        }
      ]
    },
    {
      "cell_type": "markdown",
      "source": [
        "### Типы данных: кортеж (tuple)\n",
        "\n",
        "Кортежи очень похожи на списки. Отличие заключается в том, что они не изменяемые.\n",
        "\n",
        "Кортеж также включает в себя коллекцию данных одного или разных типов.\n",
        "\n",
        "Для того, чтобы создать кортеж. нужно перечислить данные через запятуюи заключить их в круглые скобки.\n",
        "\n",
        "Мы также можем создать пустой кортеж, но это не будет иметь особого практического применения: empty_tuple = tuple().\n",
        "\n",
        "Кортежи - это неизменяемый тип данных! Поэтому при попытке присвоить новое значение любому из элементов кортежа мы получим ошибку TypeError, при этом доступ к элементам по индексу по прежнему возможен."
      ],
      "metadata": {
        "id": "lZYRII1jwpZJ"
      }
    },
    {
      "cell_type": "code",
      "source": [
        "my_tuple = (1, \"str\", True)\n",
        "my_tuple[0]"
      ],
      "metadata": {
        "colab": {
          "base_uri": "https://localhost:8080/"
        },
        "id": "XMchMn3CxF--",
        "outputId": "d8a21024-ceba-4921-c9f0-636d5920f63d"
      },
      "execution_count": 41,
      "outputs": [
        {
          "output_type": "execute_result",
          "data": {
            "text/plain": [
              "1"
            ]
          },
          "metadata": {},
          "execution_count": 41
        }
      ]
    },
    {
      "cell_type": "code",
      "source": [
        "my_tuple[0] = 99  # выдаст ошибку"
      ],
      "metadata": {
        "id": "y-xtHJ9bxU7W"
      },
      "execution_count": null,
      "outputs": []
    },
    {
      "cell_type": "markdown",
      "source": [
        "#### Основные методы кортежей:\n",
        "\n",
        "- tuple.index(x, [start[,end]]) - возвращает положение первого элемента со значением x (при этом поиск ведется от start до end)\n",
        "\n",
        "- tuple.count(x) - возвращает количество элементов со значением x"
      ],
      "metadata": {
        "id": "4dgYaOa_FPGx"
      }
    },
    {
      "cell_type": "code",
      "source": [
        "empty_tuple = tuple()  # ()\n",
        "empty_list = list()  # []"
      ],
      "metadata": {
        "id": "L_Fxkr5AxcII"
      },
      "execution_count": null,
      "outputs": []
    },
    {
      "cell_type": "markdown",
      "source": [
        "### Тип данных: множество (set)\n",
        "\n",
        "Множества являются неупорядоченными изменяемыми уникальными уникальными коллекциями данных.\n",
        "\n",
        "Изменяемые - значит, что мы можем добавлять, удалятьи изменять элементы в коллекции.\n",
        "\n",
        "Уникальные - означает, что элементы в множестве не могут повторяться. Неупорядоченные - озачает, что мы не можем обратиться к элементу множества по индексу и не гарантируем порядок элементов при выходе.\n",
        "\n",
        "\n",
        "Преимущество множеств заключается в скорости поиска элементов.\n",
        "\n",
        "Множества также могут включать в себя коллекцию данного одного или разных типов. Для того, чтобы создать множество, нужно перечислить данные через запятую и заключить их в фигурные скобки:"
      ],
      "metadata": {
        "id": "4no8sKubxumw"
      }
    },
    {
      "cell_type": "code",
      "source": [
        "my_set = {1, 2, 2, 4, \"s\", True}  # удаляет дубли\n",
        "my_set"
      ],
      "metadata": {
        "colab": {
          "base_uri": "https://localhost:8080/"
        },
        "id": "1HuONih3x1Bk",
        "outputId": "da998c29-8712-4a55-a848-095ab16e33ca"
      },
      "execution_count": 44,
      "outputs": [
        {
          "output_type": "execute_result",
          "data": {
            "text/plain": [
              "{1, 2, 4, 's'}"
            ]
          },
          "metadata": {},
          "execution_count": 44
        }
      ]
    },
    {
      "cell_type": "markdown",
      "source": [
        "Мы можем превратить в множество некоторые другие типы данных, например, список и избавиться таким образом от дублей."
      ],
      "metadata": {
        "id": "k0v3yCJxIpCy"
      }
    },
    {
      "cell_type": "code",
      "source": [
        "s = set(new_list)\n",
        "\n",
        "s[0]  # выдаст ошибку, нельзя обращаться к элементу"
      ],
      "metadata": {
        "id": "VLlbQ0akx88o"
      },
      "execution_count": 46,
      "outputs": []
    },
    {
      "cell_type": "code",
      "source": [
        "1 in my_set"
      ],
      "metadata": {
        "colab": {
          "base_uri": "https://localhost:8080/"
        },
        "id": "mjzOhYaDycmK",
        "outputId": "da27ca19-e2a4-48bd-a36c-c423b9258e90"
      },
      "execution_count": 47,
      "outputs": [
        {
          "output_type": "execute_result",
          "data": {
            "text/plain": [
              "True"
            ]
          },
          "metadata": {},
          "execution_count": 47
        }
      ]
    },
    {
      "cell_type": "markdown",
      "source": [
        "#### Основные методы множеств:\n",
        "\n",
        "- set.add(elem) -добавляет элемент в множество\n",
        "- set.remove(elem) - удаляет элемент из множества. Вызывает KeyError, если такого элемента не существует\n",
        "- set.discard(elem) - удаляет элемент, если он находится в множестве\n",
        "- set.pop() - удаляет первый элемент из множества. Так как множества не упорядочены, нельзя точно сказать, какой элемент будет первым"
      ],
      "metadata": {
        "id": "nZF6Gk4SI4u8"
      }
    },
    {
      "cell_type": "markdown",
      "source": [
        "#### Специальные методы множеств:\n",
        "\n",
        "- set.union(other, ...) или set |other|... - объединение нескольких множеств\n",
        "\n",
        "- set.intersection(other, ...) или set & other & ... - пересечение\n",
        "\n",
        "- set.difference(other, ...) или set - other - ... - множество из всех элементов set, не приадлежащие не одному из other\n",
        "\n",
        "- set.symmetric_difference(other);set^other - множество из элементов, встречающихся в одном множестве, но не встречающиеся в обоих\n"
      ],
      "metadata": {
        "id": "TjMmrE4iJnoE"
      }
    },
    {
      "cell_type": "markdown",
      "source": [
        "### Тип данных: Boolean\n",
        "\n",
        "Самый простой и часто встречающийся тип данных, имеющий всего два значения:\n",
        "- True - истина\n",
        "- False - ложь\n",
        "\n",
        "Встречается в циклах и управляющих конструкциях в явном или неявном виде."
      ],
      "metadata": {
        "id": "4bc9tZZXzVh5"
      }
    },
    {
      "cell_type": "markdown",
      "source": [
        "### Тип данных: словарь (dict)\n",
        "\n",
        "Словари представляют собой измеряемые коллекции, организованные по типу ключ:значение.\n",
        "\n",
        "Изменяемые - это значит, что мы можем добавлять, удалять и изменять элементы в коллекции.\n",
        "\n",
        "Ключами словаря могут быть только неизменяемые, хэшируемые типы данных: числа, строки, кортежи. Дубликаты ключей не допускаются.\n",
        "\n",
        "Значениями словаря могут быть любые типы данных. Повторение значений допустимо.\n",
        "\n",
        "Для того, чтобы создать словарь, нужно перечислить пары ключ-значение через двоеточие, отделяя пары запятыми и заключить их в фигурные скобки:"
      ],
      "metadata": {
        "id": "ymNllB6p1Cq4"
      }
    },
    {
      "cell_type": "code",
      "source": [
        "my_dict = {\"a\": 1, \"b\": 2}\n",
        "my_dict"
      ],
      "metadata": {
        "colab": {
          "base_uri": "https://localhost:8080/"
        },
        "id": "AqBLb26S1wga",
        "outputId": "2cd25a1f-021f-4cfd-eb0a-6c18012cf49d"
      },
      "execution_count": 48,
      "outputs": [
        {
          "output_type": "execute_result",
          "data": {
            "text/plain": [
              "{'a': 1, 'b': 2}"
            ]
          },
          "metadata": {},
          "execution_count": 48
        }
      ]
    },
    {
      "cell_type": "code",
      "source": [
        "my_dict[\"a\"]"
      ],
      "metadata": {
        "colab": {
          "base_uri": "https://localhost:8080/"
        },
        "id": "38HHjN-a5GYF",
        "outputId": "8f7af0bb-ca2d-47c1-fa7d-717bfcc3d957"
      },
      "execution_count": 50,
      "outputs": [
        {
          "output_type": "execute_result",
          "data": {
            "text/plain": [
              "1"
            ]
          },
          "metadata": {},
          "execution_count": 50
        }
      ]
    },
    {
      "cell_type": "code",
      "source": [
        "my_dict[\"a\"] += 1  # my_dict[\"a\"] = my_dict[\"a\"] + 1"
      ],
      "metadata": {
        "id": "_Oq4YOEC5J7K"
      },
      "execution_count": 51,
      "outputs": []
    },
    {
      "cell_type": "code",
      "source": [
        "my_dict[\"a\"] = 8\n",
        "my_dict[\"a\"]"
      ],
      "metadata": {
        "colab": {
          "base_uri": "https://localhost:8080/"
        },
        "id": "dfibfZCc5fem",
        "outputId": "05fda90e-b1bc-48a3-c6d0-6d89a56ab0f1"
      },
      "execution_count": 52,
      "outputs": [
        {
          "output_type": "execute_result",
          "data": {
            "text/plain": [
              "8"
            ]
          },
          "metadata": {},
          "execution_count": 52
        }
      ]
    },
    {
      "cell_type": "code",
      "source": [
        "my_dict"
      ],
      "metadata": {
        "colab": {
          "base_uri": "https://localhost:8080/"
        },
        "id": "x5lUSN-w5iri",
        "outputId": "253f7abf-b12c-4bfe-a232-3c45e57037ac"
      },
      "execution_count": 55,
      "outputs": [
        {
          "output_type": "execute_result",
          "data": {
            "text/plain": [
              "{'a': 8, 'b': 2}"
            ]
          },
          "metadata": {},
          "execution_count": 55
        }
      ]
    },
    {
      "cell_type": "markdown",
      "source": [
        "#### Основные методы словарей:\n",
        "- dict.get(key[, default]) - возвращает значение ключа, но если его нет, не бросает исключение, а возвращает default (по умолчанию None)\n",
        "- dict.items() - возвращает пары (ключ, значение)\n",
        "- dict.keys() - возвращает ключчи в словаре\n",
        "- dict.values() - возвращает значения в словаре\n",
        "- dict.pop(key[, default]) - удаляет ключ и возвращает значение.  ели ключа нет, воззвращает default (по умолчанию бросает исключение)\n",
        "- dict.setdefault(key[, default]) - возвращает значение ключа, но если его нет, не бросает исключение, а создает ключ со значение defoult (по умолчанию None)"
      ],
      "metadata": {
        "id": "lLCp9GLPjA6Y"
      }
    },
    {
      "cell_type": "code",
      "source": [
        "my_dict.get(\"c\", \"bebebe\")"
      ],
      "metadata": {
        "colab": {
          "base_uri": "https://localhost:8080/",
          "height": 35
        },
        "id": "8paOuYHF5uMy",
        "outputId": "9ee2285c-0305-4a43-f5d5-5dda48c1411b"
      },
      "execution_count": 57,
      "outputs": [
        {
          "output_type": "execute_result",
          "data": {
            "text/plain": [
              "'bebebe'"
            ],
            "application/vnd.google.colaboratory.intrinsic+json": {
              "type": "string"
            }
          },
          "metadata": {},
          "execution_count": 57
        }
      ]
    },
    {
      "cell_type": "code",
      "source": [
        "my_dict.keys()"
      ],
      "metadata": {
        "colab": {
          "base_uri": "https://localhost:8080/"
        },
        "id": "Yq5jocCw6PQe",
        "outputId": "f3570948-b7c6-46a9-b93d-6e34628839d6"
      },
      "execution_count": 66,
      "outputs": [
        {
          "output_type": "execute_result",
          "data": {
            "text/plain": [
              "dict_keys(['a', 'b'])"
            ]
          },
          "metadata": {},
          "execution_count": 66
        }
      ]
    },
    {
      "cell_type": "code",
      "source": [
        "type(my_dict.values())"
      ],
      "metadata": {
        "colab": {
          "base_uri": "https://localhost:8080/"
        },
        "id": "15jy6S-06PAd",
        "outputId": "1f0fe30e-95cd-4b16-ef82-ad1a3068777d"
      },
      "execution_count": 67,
      "outputs": [
        {
          "output_type": "execute_result",
          "data": {
            "text/plain": [
              "dict_values"
            ]
          },
          "metadata": {},
          "execution_count": 67
        }
      ]
    },
    {
      "cell_type": "code",
      "source": [
        "my_dict.values()"
      ],
      "metadata": {
        "colab": {
          "base_uri": "https://localhost:8080/"
        },
        "id": "ex4xyJ9j6OyP",
        "outputId": "6727861f-4e62-4a9b-a34e-8f73885fbb7b"
      },
      "execution_count": 68,
      "outputs": [
        {
          "output_type": "execute_result",
          "data": {
            "text/plain": [
              "dict_values([8, 2])"
            ]
          },
          "metadata": {},
          "execution_count": 68
        }
      ]
    },
    {
      "cell_type": "code",
      "source": [
        "my_dict.items()"
      ],
      "metadata": {
        "colab": {
          "base_uri": "https://localhost:8080/"
        },
        "id": "Dt-iuz9XknvW",
        "outputId": "82441bd2-3908-4976-80f7-461f943f725a"
      },
      "execution_count": 69,
      "outputs": [
        {
          "output_type": "execute_result",
          "data": {
            "text/plain": [
              "dict_items([('a', 8), ('b', 2)])"
            ]
          },
          "metadata": {},
          "execution_count": 69
        }
      ]
    },
    {
      "cell_type": "markdown",
      "source": [
        "### Тип данных: NoneType\n",
        "\n",
        "None - единственное значение."
      ],
      "metadata": {
        "id": "2RmCiaQ7z2c8"
      }
    },
    {
      "cell_type": "code",
      "source": [
        "a = []\n",
        "\n",
        "if a is not None:\n",
        "  print(\"Yes\")\n",
        "else:\n",
        "  print(\"No\")\n",
        ""
      ],
      "metadata": {
        "id": "gsfgvyBN0rMV"
      },
      "execution_count": null,
      "outputs": []
    },
    {
      "cell_type": "markdown",
      "source": [
        "## Управляющие конструкции\n",
        "\n",
        "- Управляющие конструкции: операторы\n",
        "- Цикл while\n",
        "- Цикл for\n",
        "\n",
        "\n",
        "\n",
        "\n",
        "Управляющие конструкции в языках программирования служат для написания логики различных вариантов действия в зависимости от текущего состояния программы.\n",
        "\n",
        "Основой для выбора того или иного варианта выполнения программы зависит от истинности или ложности заданного условия.\n",
        "\n",
        "\n"
      ],
      "metadata": {
        "id": "HgqAwWOck63s"
      }
    },
    {
      "cell_type": "markdown",
      "source": [
        "#### Управляющие конструкции: операторы\n",
        "\n",
        "Для того чтобы воспользоваться управляющими конструкциями нам нужно проверить истинность или ложность проверяемого условия. Для этого в Python существует целый набор инструментов:\n",
        "\n",
        "![image.png](data:image/png;base64,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)"
      ],
      "metadata": {
        "id": "z6Atdj23ljo8"
      }
    },
    {
      "cell_type": "markdown",
      "source": [
        "**Специальные встрроенные функции и операторы:**\n",
        "\n",
        "- type(x) - функция, определяющая тип объекта х\n",
        "- isinstance(x, str) - функция, проверяющая принадлежность объекта х к классу str\n",
        "- is - оператор, проверяющий является ли объект чем-то (путем сравнения id)\n",
        "- is not - оператор, проверяющий что объект не является чем-то (путем сравнения id)\n",
        "- in - оператор, проверяющий вхождение элемента в последовательность (коллекцию)\n",
        "- not in - оператор, проверяющий что элемент не входит в последовательность (коллекцию)\n",
        "\n",
        "\n",
        "\n",
        "\n",
        "\n"
      ],
      "metadata": {
        "id": "13XQFI5ll-30"
      }
    },
    {
      "cell_type": "markdown",
      "source": [
        "### Цикл while\n",
        "\n",
        "Один из двух вариантов цикла в Python - это while. Данный тип цикла используется для создания бесконечных циклов или циклов, условие выхода из которых задается произвольно.\n",
        "\n",
        "При создании цикла while необходимо помнить об условии выхода из цикла, иначе цикл будет бесконечным."
      ],
      "metadata": {
        "id": "DVIJcLH96kOl"
      }
    },
    {
      "cell_type": "code",
      "source": [
        "x = 5\n",
        "\n",
        "while x > 0: # while True: - бесконечный цикл\n",
        "  print(x)  # действие\n",
        "  x -=1"
      ],
      "metadata": {
        "colab": {
          "base_uri": "https://localhost:8080/"
        },
        "id": "Cr9xQ1oQ7GUo",
        "outputId": "f6ff9cd4-1270-4745-dc37-391918a9f5cc"
      },
      "execution_count": 58,
      "outputs": [
        {
          "output_type": "stream",
          "name": "stdout",
          "text": [
            "5\n",
            "4\n",
            "3\n",
            "2\n",
            "1\n"
          ]
        }
      ]
    },
    {
      "cell_type": "markdown",
      "source": [
        "Для прерывания итерации цикла или цикла в целом - существует специальные ключевые слова break и continue:\n",
        "- break - прерывает цикл и заставляет интерпретатор полностью выйти из него, продолжив выполнение кода в основном потоке\n",
        "- continue - прерывает выполнение цикла на определенном витке, при этом сам цикл продолжается."
      ],
      "metadata": {
        "id": "UvrOO50Cn7_q"
      }
    },
    {
      "cell_type": "code",
      "source": [
        "x = 5\n",
        "\n",
        "while x > 0:\n",
        "  if x == 4:\n",
        "    x -= 1\n",
        "    continue\n",
        "  print(x)\n",
        "  x -=1"
      ],
      "metadata": {
        "colab": {
          "base_uri": "https://localhost:8080/"
        },
        "id": "Ph_qa32V7bua",
        "outputId": "2f64810d-c0d3-4514-b63b-490d8c05bdc9"
      },
      "execution_count": 59,
      "outputs": [
        {
          "output_type": "stream",
          "name": "stdout",
          "text": [
            "5\n",
            "3\n",
            "2\n",
            "1\n"
          ]
        }
      ]
    },
    {
      "cell_type": "code",
      "source": [
        "x = 5\n",
        "\n",
        "while x > 0:\n",
        "  if x == 4:\n",
        "    break\n",
        "  print(x)\n",
        "  x -=1"
      ],
      "metadata": {
        "colab": {
          "base_uri": "https://localhost:8080/"
        },
        "id": "21_f1GPC7vjo",
        "outputId": "dcc2c6a3-f814-4e1f-abab-9439a1a67775"
      },
      "execution_count": 60,
      "outputs": [
        {
          "output_type": "stream",
          "name": "stdout",
          "text": [
            "5\n"
          ]
        }
      ]
    },
    {
      "cell_type": "markdown",
      "source": [
        "### Цикл for\n",
        "\n",
        "Используется для итерации (перебора) по коллекциям данных и другим итерируемым объектам.\n",
        "\n",
        "Также как и в случае с циклом while, вы можете использовать ключевые слова break и continue."
      ],
      "metadata": {
        "id": "9lC6dRMzojXj"
      }
    },
    {
      "cell_type": "code",
      "source": [
        "for i in range(5, 0, -1):\n",
        "  print(i)"
      ],
      "metadata": {
        "colab": {
          "base_uri": "https://localhost:8080/"
        },
        "id": "g5QoDWMs8UKM",
        "outputId": "b09067a3-aa7b-49a4-e54b-727c821b09ce"
      },
      "execution_count": 61,
      "outputs": [
        {
          "output_type": "stream",
          "name": "stdout",
          "text": [
            "5\n",
            "4\n",
            "3\n",
            "2\n",
            "1\n"
          ]
        }
      ]
    },
    {
      "cell_type": "code",
      "source": [
        "for el in \"ШАД МТС\":\n",
        "  print(el)"
      ],
      "metadata": {
        "colab": {
          "base_uri": "https://localhost:8080/"
        },
        "id": "vkhbYx3h8nJL",
        "outputId": "8228b211-b9ea-4904-97b5-a69eb21d3e51"
      },
      "execution_count": 62,
      "outputs": [
        {
          "output_type": "stream",
          "name": "stdout",
          "text": [
            "Ш\n",
            "А\n",
            "Д\n",
            " \n",
            "М\n",
            "Т\n",
            "С\n"
          ]
        }
      ]
    },
    {
      "cell_type": "code",
      "source": [
        "s = \"ШАД МТС\"\n",
        "\n",
        "stop = len(s)\n",
        "\n",
        "x = 0\n",
        "\n",
        "while x < stop:\n",
        "  print(s[x])\n",
        "  x += 1"
      ],
      "metadata": {
        "colab": {
          "base_uri": "https://localhost:8080/"
        },
        "id": "QByt2mCz8zAg",
        "outputId": "f7799dbc-561b-4605-a36a-385ba6a9bd84"
      },
      "execution_count": 64,
      "outputs": [
        {
          "output_type": "stream",
          "name": "stdout",
          "text": [
            "Ш\n",
            "А\n",
            "Д\n",
            " \n",
            "М\n",
            "Т\n",
            "С\n"
          ]
        }
      ]
    },
    {
      "cell_type": "code",
      "source": [
        "x = 2\n",
        "if x == 3:\n",
        "  print(3)\n",
        "elif x == 5:\n",
        "  print(5)\n",
        "else:\n",
        "  print(x)\n"
      ],
      "metadata": {
        "colab": {
          "base_uri": "https://localhost:8080/"
        },
        "id": "uVefEhU39mjj",
        "outputId": "b1d5d9ed-ffe2-41a7-ee8d-ef55be84736f"
      },
      "execution_count": 65,
      "outputs": [
        {
          "output_type": "stream",
          "name": "stdout",
          "text": [
            "2\n"
          ]
        }
      ]
    }
  ]
}